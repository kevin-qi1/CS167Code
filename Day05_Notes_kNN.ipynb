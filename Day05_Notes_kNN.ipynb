{
  "nbformat": 4,
  "nbformat_minor": 0,
  "metadata": {
    "colab": {
      "name": "Day05_Notes_kNN.ipynb",
      "provenance": [],
      "collapsed_sections": [],
      "include_colab_link": true
    },
    "kernelspec": {
      "name": "python3",
      "display_name": "Python 3"
    },
    "language_info": {
      "name": "python"
    }
  },
  "cells": [
    {
      "cell_type": "markdown",
      "metadata": {
        "id": "view-in-github",
        "colab_type": "text"
      },
      "source": [
        "<a href=\"https://colab.research.google.com/github/urness/CS167Code/blob/main/Day05_Notes_kNN.ipynb\" target=\"_parent\"><img src=\"https://colab.research.google.com/assets/colab-badge.svg\" alt=\"Open In Colab\"/></a>"
      ]
    },
    {
      "cell_type": "markdown",
      "metadata": {
        "id": "mRqySdQkG_iz"
      },
      "source": [
        "# Day 5 Notes: k Nearest Neighbors\n",
        "The following code includes the steps necessary to build a k nearest neighbors model. We'll go through each step, and then I'll ask you to pull these steps together into a function that you can pass a new observation of a flower in to and it will output the species the model predicts that flower is."
      ]
    },
    {
      "cell_type": "code",
      "metadata": {
        "id": "XMkDlc07G6TO"
      },
      "source": [
        "import pandas\n",
        "from google.colab import drive\n",
        "drive.mount('/content/drive')\n",
        "#go through authentication step"
      ],
      "execution_count": null,
      "outputs": []
    },
    {
      "cell_type": "code",
      "metadata": {
        "id": "I5yq4e6QHO2b"
      },
      "source": [
        "#import the data and take a look at it\n",
        "data = pandas.read_csv('/content/drive/MyDrive/CS167Spring22/datasets/irisData.csv')\n",
        "data.head()"
      ],
      "execution_count": null,
      "outputs": []
    },
    {
      "cell_type": "code",
      "metadata": {
        "id": "Y0rY7Z24cOUb"
      },
      "source": [
        "data['petal width'].mean() #get the average of a column"
      ],
      "execution_count": null,
      "outputs": []
    },
    {
      "cell_type": "code",
      "metadata": {
        "id": "I1pRatdwHF1f"
      },
      "source": [
        "# Calculate the distance\n",
        "import numpy\n",
        "#adding a new column\n",
        "data['distance_to_new'] = numpy.sqrt(\n",
        "    (5.1-data['petal length'])**2\n",
        "    +(7.2-data['sepal length'])**2\n",
        "    +(1.5-data['petal width'])**2\n",
        "    +(2.5-data['sepal width'])**2)\n",
        "data"
      ],
      "execution_count": null,
      "outputs": []
    },
    {
      "cell_type": "code",
      "metadata": {
        "id": "cEUl-KKNHMhr"
      },
      "source": [
        "# Sort the data and display it\n",
        "sorted_data = data.sort_values(['distance_to_new']) \n",
        "sorted_data #display it"
      ],
      "execution_count": null,
      "outputs": []
    },
    {
      "cell_type": "code",
      "metadata": {
        "id": "F8_LukNTHToc"
      },
      "source": [
        "# give the top 5 closest neighbors\n",
        "sorted_data.iloc[0:5]"
      ],
      "execution_count": null,
      "outputs": []
    },
    {
      "cell_type": "code",
      "metadata": {
        "id": "N8B0MxoFHfU8"
      },
      "source": [
        "# give the most commonly occuring species of the 5 closest neighbors\n",
        "sorted_data.iloc[0:5]['species'].mode()\n",
        "#sorted_data.iloc[0:5]['species'].mode()[0] #return just the string"
      ],
      "execution_count": null,
      "outputs": []
    },
    {
      "cell_type": "markdown",
      "metadata": {
        "id": "-xvNP1SOHp1I"
      },
      "source": [
        "## Exercise:\n",
        "Now it's your turn. Use the code snippets from above to build out a kNN function that takes in `specimen`, `data`, and `k` and prints out the prediction. "
      ]
    },
    {
      "cell_type": "code",
      "metadata": {
        "id": "xnaHPeQsHnmo"
      },
      "source": [
        "def knn(specimen, data, k):\n",
        "  # your code here\n",
        "\n",
        "\n",
        "  "
      ],
      "execution_count": null,
      "outputs": []
    },
    {
      "cell_type": "code",
      "metadata": {
        "id": "__fm5FbCH61k"
      },
      "source": [
        "# Use the code below to build a dictionary of values and test your new function:\n",
        "iris = {}\n",
        "iris['petal length'] = 5.1\n",
        "iris['sepal length'] = 7.2\n",
        "iris['petal width'] = 1.5\n",
        "iris['sepal width'] = 2.5\n",
        "# 5-NN \n",
        "knn(iris,data,5)"
      ],
      "execution_count": null,
      "outputs": []
    },
    {
      "cell_type": "markdown",
      "source": [
        "## Exercise #2:\n",
        "Now it's your turn. Use the code snippets from above to build out a *weighted* kNN function that takes in `specimen`, `data`, and `k` and ouputs the prediction. "
      ],
      "metadata": {
        "id": "NkVXeVBtZHjD"
      }
    },
    {
      "cell_type": "code",
      "source": [
        "import numpy\n",
        "\n",
        "# weighted kNN\n",
        "def w_knn(specimen, data, k):\n",
        "  # calculate the distance\n",
        "  \n",
        "  # calculate the weights (remember, the weights are 1/d^2)\n",
        "\n",
        "  # find the closest k\n",
        "\n",
        "  # use groupby to sum the weights of each species in the closest k\n",
        " \n",
        "  # return the class that has the larger sum of weights\n",
        "\n"
      ],
      "metadata": {
        "id": "QTMArjxkZQEq"
      },
      "execution_count": 14,
      "outputs": []
    },
    {
      "cell_type": "code",
      "source": [
        "iris = {}\n",
        "iris['petal length'] = 5.1\n",
        "iris['sepal length'] = 7.2\n",
        "iris['petal width'] = 1.5\n",
        "iris['sepal width'] = 2.5\n",
        "# 5-NN \n",
        "print(w_knn(iris,data,5))\n"
      ],
      "metadata": {
        "id": "_OUNKKYheitT"
      },
      "execution_count": null,
      "outputs": []
    }
  ]
}